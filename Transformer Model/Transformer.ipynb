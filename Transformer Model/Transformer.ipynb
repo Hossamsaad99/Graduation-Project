{
  "nbformat": 4,
  "nbformat_minor": 0,
  "metadata": {
    "colab": {
      "name": "Trans1.ipynb",
      "provenance": [],
      "collapsed_sections": []
    },
    "kernelspec": {
      "display_name": "Python 3",
      "name": "python3"
    },
    "language_info": {
      "name": "python"
    },
    "accelerator": "GPU"
  },
  "cells": [
    {
      "cell_type": "code",
      "metadata": {
        "colab": {
          "base_uri": "https://localhost:8080/"
        },
        "id": "4_9IWZLRDqJ3",
        "outputId": "1a121825-ea05-4776-b260-23baf2de04af"
      },
      "source": [
        " from google.colab import drive \n",
        "drive.mount('/content/drive')\n",
        "%cd drive/MyDrive/Final2/\n",
        "!ls\n"
      ],
      "execution_count": null,
      "outputs": [
        {
          "output_type": "stream",
          "text": [
            "Mounted at /content/drive\n",
            "/content/drive/MyDrive/Final2\n",
            "Transformer+TimeEmbedding.hdf5\tUntitled0.ipynb  utils\n"
          ],
          "name": "stdout"
        }
      ]
    },
    {
      "cell_type": "code",
      "metadata": {
        "colab": {
          "base_uri": "https://localhost:8080/"
        },
        "id": "8FPHVkK5Dsyc",
        "outputId": "d0ef8a87-9c13-40ae-fd86-41c5dfff5c96"
      },
      "source": [
        "\n",
        "\n",
        "\n",
        "%load_ext autoreload\n",
        "%reload_ext autoreload\n",
        "%autoreload 2\n",
        "\n",
        "from utils.get_data import get_data\n",
        "from sklearn.metrics import mean_absolute_error,mean_squared_error\n",
        "import matplotlib.pyplot as plt\n",
        "\n",
        "df, X_train, y_train, X_val, y_val, X_test, y_test,train_data_len,val_data_len,scaler = get_data()\n",
        "print(df.head())\n",
        "print(df.tail())"
      ],
      "execution_count": null,
      "outputs": [
        {
          "output_type": "stream",
          "text": [
            "The autoreload extension is already loaded. To reload it, use:\n",
            "  %reload_ext autoreload\n",
            "Training data shape: (1878, 5)\n",
            "Validation data shape: (235, 5)\n",
            "Test data shape: (234, 5)\n",
            "Training set shape (1846, 32, 5) (1846,)\n",
            "Validation set shape (203, 32, 5) (203,)\n",
            "Testing set shape (202, 32, 5) (202,)\n",
            "             High    Low   Open  Adj Close  Close\n",
            "Date                                             \n",
            "2012-01-03  11.25  10.99  11.00   7.544740  11.13\n",
            "2012-01-04  11.53  11.07  11.15   7.659981  11.30\n",
            "2012-01-05  11.63  11.24  11.33   7.856563  11.59\n",
            "2012-01-06  11.80  11.52  11.74   7.937905  11.71\n",
            "2012-01-09  11.95  11.70  11.83   7.998916  11.80\n",
            "             High    Low   Open  Adj Close  Close\n",
            "Date                                             \n",
            "2021-04-26  12.44  12.23  12.28      12.27  12.27\n",
            "2021-04-27  12.50  12.27  12.29      12.49  12.49\n",
            "2021-04-28  12.60  12.39  12.60      12.43  12.43\n",
            "2021-04-29  11.91  11.14  11.91      11.26  11.26\n",
            "2021-04-30  11.54  11.33  11.36      11.54  11.54\n"
          ],
          "name": "stdout"
        }
      ]
    },
    {
      "cell_type": "code",
      "metadata": {
        "colab": {
          "base_uri": "https://localhost:8080/",
          "height": 1000
        },
        "id": "_4Yq7xgaM4uI",
        "outputId": "2ac950e7-7ed4-43e2-cc95-c2f6b203f01c"
      },
      "source": [
        "from utils.get_model import get_model\n",
        "from utils.train import train_model\n",
        "\n",
        "n = 256\n",
        "model = get_model(seq_len=32,\n",
        "                  d_k = n, d_v = n,\n",
        "                  n_heads = 12, ff_dim = n,\n",
        "                  encoder_stack_size = 1, \n",
        "                  loss='mse', \n",
        "                  output_activation='linear')\n",
        "\n",
        "train_model(model, epoches=250, batch=32)"
      ],
      "execution_count": null,
      "outputs": [
        {
          "output_type": "stream",
          "text": [
            "Training data shape: (1878, 5)\n",
            "Validation data shape: (235, 5)\n",
            "Test data shape: (234, 5)\n",
            "Training set shape (1846, 32, 5) (1846,)\n",
            "Validation set shape (203, 32, 5) (203,)\n",
            "Testing set shape (202, 32, 5) (202,)\n",
            "Epoch 1/250\n",
            "58/58 [==============================] - 15s 145ms/step - loss: 166.7315 - mae: 12.6564 - val_loss: 30.6999 - val_mae: 5.2482\n",
            "\n",
            "Epoch 00001: val_loss improved from inf to 30.69991, saving model to Transformer+TimeEmbedding.hdf5\n",
            "Epoch 2/250\n",
            "58/58 [==============================] - 7s 125ms/step - loss: 78.6208 - mae: 8.1972 - val_loss: 20.5954 - val_mae: 4.2558\n",
            "\n",
            "Epoch 00002: val_loss improved from 30.69991 to 20.59537, saving model to Transformer+TimeEmbedding.hdf5\n",
            "Epoch 3/250\n",
            "58/58 [==============================] - 7s 123ms/step - loss: 5.4121 - mae: 1.8561 - val_loss: 0.6662 - val_mae: 0.7058\n",
            "\n",
            "Epoch 00003: val_loss improved from 20.59537 to 0.66623, saving model to Transformer+TimeEmbedding.hdf5\n",
            "Epoch 4/250\n",
            "58/58 [==============================] - 7s 121ms/step - loss: 1.8458 - mae: 1.0622 - val_loss: 0.5870 - val_mae: 0.5683\n",
            "\n",
            "Epoch 00004: val_loss improved from 0.66623 to 0.58703, saving model to Transformer+TimeEmbedding.hdf5\n",
            "Epoch 5/250\n",
            "58/58 [==============================] - 7s 122ms/step - loss: 1.4823 - mae: 0.9505 - val_loss: 0.7677 - val_mae: 0.5802\n",
            "\n",
            "Epoch 00005: val_loss did not improve from 0.58703\n",
            "Epoch 6/250\n",
            "58/58 [==============================] - 7s 123ms/step - loss: 1.2827 - mae: 0.8870 - val_loss: 0.6991 - val_mae: 0.5813\n",
            "\n",
            "Epoch 00006: val_loss did not improve from 0.58703\n",
            "Epoch 7/250\n",
            "58/58 [==============================] - 7s 125ms/step - loss: 1.3636 - mae: 0.9195 - val_loss: 0.7143 - val_mae: 0.5784\n",
            "\n",
            "Epoch 00007: val_loss did not improve from 0.58703\n",
            "Epoch 8/250\n",
            "58/58 [==============================] - 7s 122ms/step - loss: 1.4180 - mae: 0.9248 - val_loss: 0.8465 - val_mae: 0.6496\n",
            "\n",
            "Epoch 00008: val_loss did not improve from 0.58703\n",
            "Epoch 9/250\n",
            "58/58 [==============================] - 7s 122ms/step - loss: 1.2936 - mae: 0.8938 - val_loss: 0.8469 - val_mae: 0.5863\n",
            "\n",
            "Epoch 00009: val_loss did not improve from 0.58703\n",
            "Epoch 10/250\n",
            "58/58 [==============================] - 7s 121ms/step - loss: 1.2429 - mae: 0.8858 - val_loss: 0.8288 - val_mae: 0.6349\n",
            "\n",
            "Epoch 00010: val_loss did not improve from 0.58703\n",
            "Epoch 11/250\n",
            "58/58 [==============================] - 7s 123ms/step - loss: 1.3256 - mae: 0.8979 - val_loss: 0.9202 - val_mae: 0.6200\n",
            "\n",
            "Epoch 00011: val_loss did not improve from 0.58703\n",
            "Epoch 12/250\n",
            "58/58 [==============================] - 7s 123ms/step - loss: 1.4096 - mae: 0.9289 - val_loss: 0.9626 - val_mae: 0.6315\n",
            "\n",
            "Epoch 00012: val_loss did not improve from 0.58703\n",
            "Epoch 13/250\n",
            "58/58 [==============================] - 7s 122ms/step - loss: 1.2102 - mae: 0.8590 - val_loss: 0.8191 - val_mae: 0.6070\n",
            "\n",
            "Epoch 00013: val_loss did not improve from 0.58703\n",
            "Epoch 14/250\n",
            "58/58 [==============================] - 7s 124ms/step - loss: 1.2440 - mae: 0.8779 - val_loss: 0.9085 - val_mae: 0.6068\n",
            "\n",
            "Epoch 00014: val_loss did not improve from 0.58703\n",
            "\n",
            "Evaluation metrics\n",
            "Training Data - Loss: 0.5502, MAE: 0.5827\n",
            "Validation Data - Loss: 0.5870, MAE: 0.5683\n",
            "Test Data - Loss: 0.6869, MAE: 0.6943\n"
          ],
          "name": "stdout"
        },
        {
          "output_type": "display_data",
          "data": {
            "image/png": "[encoded data removed]",
            "text/plain": [
              "<Figure size 432x288 with 1 Axes>"
            ]
          },
          "metadata": {
            "tags": [],
            "needs_background": "light"
          }
        }
      ]
    },
    {
      "cell_type": "code",
      "metadata": {
        "id": "NTGF4sDeD32d"
      },
      "source": [
        "from utils.Time2Vector import Time2Vector\n",
        "from utils.Attention import MultiAttention, SingleAttention\n",
        "from utils.Encoder import TransformerEncoder\n",
        "from tensorflow import keras\n",
        "from keras.models import load_model\n",
        "custom_objects = {\"Time2Vector\":Time2Vector,\n",
        "                      \"MultiAttention\":MultiAttention,\n",
        "                      'TransformerEncoder':TransformerEncoder}\n",
        "with keras.utils.custom_object_scope(custom_objects):\n",
        "      final_model=load_model('Transformer+TimeEmbedding.hdf5')\n",
        "    "
      ],
      "execution_count": null,
      "outputs": []
    }
  ]
}